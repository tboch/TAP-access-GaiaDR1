{
 "metadata": {
  "name": ""
 },
 "nbformat": 3,
 "nbformat_minor": 0,
 "worksheets": [
  {
   "cells": [
    {
     "cell_type": "code",
     "collapsed": false,
     "input": [
      "def query_TAP(tap_endpoint, adql_query, table_to_upload=None):\n",
      "    \"\"\"\n",
      "    Query a TAP service (designated by its tap_endpoint)\n",
      "    with a given ADQL query\n",
      "    \n",
      "    Query is performed synchronously\n",
      "    \n",
      "    Return an AstroPy Table object\n",
      "    \"\"\"\n",
      "    import requests\n",
      "    from astropy.table import Table\n",
      "    from astropy.io.votable import parse_single_table\n",
      "    import os\n",
      "    import tempfile\n",
      "    import warnings\n",
      "    warnings.simplefilter(\"ignore\")\n",
      "    \n",
      "    r = requests.post(tap_endpoint + '/sync', data={'query': adql_query, 'request': 'doQuery', 'lang': 'adql', 'format': 'votable', 'phase': 'run'})\n",
      "    \n",
      "    tmp_vot = tempfile.NamedTemporaryFile(delete = False)\n",
      "    with open(tmp_vot.name, 'w') as h:\n",
      "        for line in r.iter_lines():\n",
      "            if line:\n",
      "                h.write(line.decode(r.encoding)+'\\n')\n",
      "\n",
      "    table = parse_single_table(tmp_vot.name).to_table()\n",
      "\n",
      "    # finally delete temp files\n",
      "    os.unlink(tmp_vot.name)\n",
      "\n",
      "    return table\n"
     ],
     "language": "python",
     "metadata": {},
     "outputs": [],
     "prompt_number": 1
    },
    {
     "cell_type": "code",
     "collapsed": false,
     "input": [
      "endpoint = 'http://tapvizier.u-strasbg.fr/TAPVizieR/tap'\n",
      "adql = \"\"\"SELECT phot_g_mean_mag\n",
      "          FROM \"I/337/tgas\"\n",
      "       \"\"\"\n",
      "\n",
      "result = query_TAP(endpoint, adql)\n"
     ],
     "language": "python",
     "metadata": {},
     "outputs": [
      {
       "output_type": "stream",
       "stream": "stdout",
       "text": [
        "phot_g_mean_mag [1]\n",
        "        mag        \n",
        "-------------------\n",
        "             11.585\n",
        "             11.791\n",
        "             11.331\n",
        "             10.272\n",
        "             11.474\n",
        "             11.398\n",
        "              9.935\n",
        "             10.528\n",
        "              11.17\n",
        "             11.498\n",
        "                ...\n",
        "             12.003\n",
        "             10.732\n",
        "             10.801\n",
        "              9.682\n",
        "             11.223\n",
        "             11.943\n",
        "             11.689\n",
        "             12.169\n",
        "             11.776\n",
        "              9.597\n",
        "Length = 2057050 rows\n"
       ]
      }
     ],
     "prompt_number": 9
    },
    {
     "cell_type": "code",
     "collapsed": false,
     "input": [
      "import matplotlib.pyplot as plt\n",
      "%matplotlib inline\n",
      "histvals, binvals, patches = plt.hist(result['phot_g_mean_mag'], bins=50, facecolor='g', alpha=0.75)\n",
      "\n",
      "plt.xlabel('magnitude')\n",
      "plt.ylabel('count')\n",
      "plt.title('G mag histogram')\n",
      "plt.grid(True)"
     ],
     "language": "python",
     "metadata": {},
     "outputs": [
      {
       "metadata": {},
       "output_type": "display_data",
       "png": "[encoded data removed]",
       "text": [
        "<matplotlib.figure.Figure at 0x7f887d2a6400>"
       ]
      }
     ],
     "prompt_number": 11
    }
   ],
   "metadata": {}
  }
 ]
}