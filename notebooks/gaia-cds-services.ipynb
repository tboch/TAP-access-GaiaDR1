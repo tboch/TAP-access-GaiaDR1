{
 "cells": [
  {
   "cell_type": "markdown",
   "metadata": {},
   "source": [
    "Defining some utilitary functions and importing some modules"
   ]
  },
  {
   "cell_type": "code",
   "execution_count": 1,
   "metadata": {
    "collapsed": true
   },
   "outputs": [],
   "source": [
    "def query_TAP(tap_endpoint, adql_query, table_to_upload=None):\n",
    "    \"\"\"\n",
    "    Query a TAP service (designated by its tap_endpoint)\n",
    "    with a given ADQL query\n",
    "    \n",
    "    Query is performed synchronously\n",
    "    \n",
    "    Return an AstroPy Table object\n",
    "    \"\"\"\n",
    "    import requests\n",
    "    from astropy.table import Table\n",
    "    from astropy.io.votable import parse_single_table\n",
    "    import os\n",
    "    import tempfile\n",
    "    import warnings\n",
    "    \n",
    "    r = requests.post(tap_endpoint + '/sync', data={'query': adql_query, 'request': 'doQuery', 'lang': 'adql', 'format': 'votable', 'phase': 'run'})\n",
    "    \n",
    "    with warnings.catch_warnings():\n",
    "        warnings.simplefilter(\"ignore\")\n",
    "        \n",
    "    tmp_vot = tempfile.NamedTemporaryFile(delete = False)\n",
    "    with open(tmp_vot.name, 'w') as h:\n",
    "        for line in r.iter_lines():\n",
    "            if line:\n",
    "                h.write(line.decode(r.encoding)+'\\n')\n",
    "\n",
    "    table = parse_single_table(tmp_vot.name).to_table()\n",
    "\n",
    "    # finally delete temp files\n",
    "    os.unlink(tmp_vot.name)\n",
    "\n",
    "    return table\n",
    "\n",
    "from astroquery.xmatch import XMatch\n",
    "import types\n",
    "import six\n",
    "from astropy.io import ascii\n",
    "\n",
    "# monkey patching XMatch\n",
    "def patched_is_table_available(self, table_id):\n",
    "        if isinstance(table_id, six.string_types) and (table_id[:7] == 'vizier:'):\n",
    "            table_id = table_id[7:]\n",
    "        if not isinstance(table_id, six.string_types):\n",
    "            return False\n",
    "        \n",
    "        return table_id in self.get_available_tables()\n",
    "    \n",
    "    \n",
    "XMatch.is_table_available = types.MethodType(patched_is_table_available, XMatch)\n",
    "\n",
    "    \n",
    "from astropy import units as u\n",
    "\n",
    "    \n",
    "import matplotlib.pyplot as plt\n",
    "%matplotlib inline\n",
    "import matplotlib\n",
    "\n",
    "def plot_scatter_density(xdata, ydata, xlabel, ylabel, title, xlim=None, ylim=None, cmap='viridis', invert_yaxis = True, s=2, grid=False):\n",
    "    from scipy.stats import gaussian_kde\n",
    "    import numpy as np\n",
    "\n",
    "    x = np.reshape(np.array(xdata, copy=False).astype('float'), (len(xdata)))\n",
    "    y = np.reshape(np.array(ydata, copy=False).astype('float'), len(ydata))\n",
    "\n",
    "    xy = np.vstack([x,y])\n",
    "    z = gaussian_kde(xy)(xy)\n",
    "    \n",
    "    # Sort the points by density, so that the densest points are plotted last\n",
    "    idx = z.argsort()\n",
    "    x, y, z = x[idx], y[idx], z[idx]\n",
    "    \n",
    "    \n",
    "    \n",
    "    \n",
    "    w = h = 8\n",
    "    fig, ax = plt.subplots(figsize = (w, h))\n",
    "    \n",
    "    ax.set_xlabel(xlabel)\n",
    "    ax.set_ylabel(ylabel)\n",
    "    if xlim:\n",
    "        ax.set_xlim(*xlim)\n",
    "    if ylim:\n",
    "        ax.set_ylim(*ylim)\n",
    "    ax.set_title(title)\n",
    "    ax.scatter(x, y, c=z, s=s, edgecolor='', cmap=cmap)\n",
    "    if invert_yaxis:\n",
    "        ax.invert_yaxis()\n",
    "    ax.grid(grid)\n",
    "\n"
   ]
  },
  {
   "cell_type": "markdown",
   "metadata": {},
   "source": [
    "# Query Gaia tables in VizieR"
   ]
  },
  {
   "cell_type": "markdown",
   "metadata": {},
   "source": [
    "### Query table I/337/gaia"
   ]
  },
  {
   "cell_type": "markdown",
   "metadata": {},
   "source": [
    "Let us query table I/337/gaia 20 arcmin around Messier 44"
   ]
  },
  {
   "cell_type": "code",
   "execution_count": 2,
   "metadata": {
    "collapsed": false
   },
   "outputs": [
    {
     "name": "stderr",
     "output_type": "stream",
     "text": [
      "WARNING: AstropyDeprecationWarning: astropy.utils.compat.odict.OrderedDict is now deprecated - import OrderedDict from the collections module instead [astropy.utils.compat.odict]\n",
      "WARNING:astropy:AstropyDeprecationWarning: astropy.utils.compat.odict.OrderedDict is now deprecated - import OrderedDict from the collections module instead\n",
      "WARNING: AstropyDeprecationWarning: astropy.utils.compat.odict.OrderedDict is now deprecated - import OrderedDict from the collections module instead [astropy.utils.compat.odict]\n",
      "WARNING:astropy:AstropyDeprecationWarning: astropy.utils.compat.odict.OrderedDict is now deprecated - import OrderedDict from the collections module instead\n"
     ]
    },
    {
     "name": "stdout",
     "output_type": "stream",
     "text": [
      "  _RAJ2000    _DEJ2000     _r    ...      ELON           ELAT     \n",
      "    deg         deg       deg    ...      deg            deg      \n",
      "----------- ----------- -------- ... -------------- --------------\n",
      "130.1865314  19.3486212 0.328363 ... 127.5117262730   0.9888678171\n",
      "130.1734120  19.3550861 0.319197 ... 127.4981014125   0.9919388024\n",
      "130.1809087  19.3575670 0.318394 ... 127.5043015311   0.9961520570\n",
      "130.1453588  19.3393683 0.330106 ... 127.4765479898   0.9699560692\n",
      "130.1530759  19.3466008 0.323979 ... 127.4817313114   0.9788143258\n",
      "130.1305209  19.3558631 0.312159 ... 127.4587835142   0.9823087783\n",
      "130.1676459  19.3578603 0.315346 ... 127.4921305987   0.9932240029\n",
      "130.1648495  19.3597605 0.312960 ... 127.4890925233   0.9943835979\n",
      "130.1760724  19.3824866 0.293110 ... 127.4934939615   1.0190656351\n",
      "130.1632544  19.3889285 0.284090 ... 127.4801523613   1.0221888630\n",
      "        ...         ...      ... ...            ...            ...\n",
      "130.1590402  19.3887521 0.283456 ... 127.4763549095   1.0209984334\n",
      "130.1321700  19.3841594 0.284156 ... 127.4530305729   1.0100579748\n",
      "130.1431663  19.4099695 0.259927 ... 127.4564370771   1.0376648584\n",
      "130.1041954  19.3862586 0.280463 ... 127.4269815665   1.0053221432\n",
      "130.1275363  19.4080501 0.259942 ... 127.4426783635   1.0320291265\n",
      "130.1312447  19.4068515 0.261505 ... 127.4463670167   1.0317674990\n",
      "130.1322694  19.4155339 0.252994 ... 127.4450744922   1.0404074369\n",
      "130.0343128  19.3635230 0.309430 ... 127.3690687801   0.9664618369\n",
      "130.0412745  19.3670033 0.304760 ... 127.3745279590   0.9715071170\n",
      "130.0569750  19.3901419 0.279510 ... 127.3829236323   0.9976661910\n",
      "Length = 50 rows\n"
     ]
    }
   ],
   "source": [
    "from astroquery.vizier import Vizier\n",
    "result = Vizier.query_region('Messier 44', radius='0d20m0s', catalog='I/337/gaia')\n",
    "print(result[0])\n"
   ]
  },
  {
   "cell_type": "markdown",
   "metadata": {},
   "source": [
    "By default, output is limited to 50 rows. Let's change this and redo the query."
   ]
  },
  {
   "cell_type": "code",
   "execution_count": 3,
   "metadata": {
    "collapsed": false
   },
   "outputs": [
    {
     "name": "stderr",
     "output_type": "stream",
     "text": [
      "WARNING: AstropyDeprecationWarning: astropy.utils.compat.odict.OrderedDict is now deprecated - import OrderedDict from the collections module instead [astropy.utils.compat.odict]\n",
      "WARNING:astropy:AstropyDeprecationWarning: astropy.utils.compat.odict.OrderedDict is now deprecated - import OrderedDict from the collections module instead\n",
      "WARNING: AstropyDeprecationWarning: astropy.utils.compat.odict.OrderedDict is now deprecated - import OrderedDict from the collections module instead [astropy.utils.compat.odict]\n",
      "WARNING:astropy:AstropyDeprecationWarning: astropy.utils.compat.odict.OrderedDict is now deprecated - import OrderedDict from the collections module instead\n"
     ]
    },
    {
     "name": "stdout",
     "output_type": "stream",
     "text": [
      "   RA_ICRS        DE_ICRS           Source       Plx\n",
      "     deg            deg                          mas\n",
      "-------------- -------------- ------------------ ---\n",
      "130.1865313919  19.3486212439 661215094304448640  --\n",
      "130.1734120176  19.3550860525 661215163021682304  --\n",
      "130.1809086744  19.3575670451 661215163021683584  --\n",
      "130.1453588017  19.3393683410 661215231741149824  --\n",
      "130.1530758561  19.3466007875 661215266100770176  --\n",
      "130.1305209099  19.3558630743 661215300460507904  --\n",
      "130.1676459265  19.3578602741 661215369180114176  --\n",
      "130.1648494742  19.3597605175 661215369180116096  --\n",
      "130.1760723589  19.3824865661 661215472259347584  --\n",
      "130.1632544126  19.3889284843 661215472259355008  --\n",
      "           ...            ...                ... ...\n",
      "130.3072612277  19.9280473548 661401362739275648  --\n",
      "130.2779935036  19.9267150742 661401392804351616  --\n",
      "130.2936865771  19.9351334294 661401427163456896  --\n",
      "130.2921118352  19.9366005215 661401427164102144  --\n",
      "130.2791825435  19.9420699604 661401598962153472  --\n",
      "130.2639921413  19.9441509879 661401667682246656  --\n",
      "130.2641519444  19.9601174381 661413453071905664  --\n",
      "129.8526759744  19.9027306987 664318500231186816  --\n",
      "129.8529399648  19.9034999794 664318500233554432  --\n",
      "129.8750213384  19.9239969697 664318912548085120  --\n",
      "Length = 1684 rows\n"
     ]
    }
   ],
   "source": [
    "Vizier.ROW_LIMIT = 100000\n",
    "result = Vizier.query_region('Messier 44', radius='0d20m0s', catalog='I/337/gaia')\n",
    "print(result[0]['RA_ICRS', 'DE_ICRS', 'Source', 'Plx'])"
   ]
  },
  {
   "cell_type": "markdown",
   "metadata": {},
   "source": [
    "We add now a constraint to keep only sources with a parallax > 5 mas"
   ]
  },
  {
   "cell_type": "code",
   "execution_count": 4,
   "metadata": {
    "collapsed": false
   },
   "outputs": [
    {
     "name": "stderr",
     "output_type": "stream",
     "text": [
      "WARNING: AstropyDeprecationWarning: astropy.utils.compat.odict.OrderedDict is now deprecated - import OrderedDict from the collections module instead [astropy.utils.compat.odict]\n",
      "WARNING:astropy:AstropyDeprecationWarning: astropy.utils.compat.odict.OrderedDict is now deprecated - import OrderedDict from the collections module instead\n",
      "WARNING: AstropyDeprecationWarning: astropy.utils.compat.odict.OrderedDict is now deprecated - import OrderedDict from the collections module instead [astropy.utils.compat.odict]\n",
      "WARNING:astropy:AstropyDeprecationWarning: astropy.utils.compat.odict.OrderedDict is now deprecated - import OrderedDict from the collections module instead\n"
     ]
    },
    {
     "name": "stdout",
     "output_type": "stream",
     "text": [
      "   RA_ICRS        DE_ICRS           Source        Plx  \n",
      "     deg            deg                           mas  \n",
      "-------------- -------------- ------------------ ------\n",
      "130.2344037741  19.5802836152 661246018066598656   5.14\n",
      "130.4260703292  19.6604830268 661252993093483392   6.06\n",
      "129.9905508004  19.5414242443 661268248817325312   5.58\n",
      "129.7877457088  19.5923409653 661284019938140032   6.12\n",
      "130.0752439503  19.5319393680 661290754445957248   5.65\n",
      "130.1123817124  19.5447617762 661291132403077760   5.38\n",
      "130.0918665674  19.6698786868 661297076637809024   5.37\n",
      "130.1798638364  19.7192651397 661300546971382016   5.22\n",
      "130.2943301698  19.8294836433 661305838371084288   5.80\n",
      "129.9275637670  19.7784005964 661311439008441600   5.19\n",
      "130.0976146683  19.8349117737 661316902206838528   6.69\n",
      "130.2370701390  19.9347999163 661319547906689024   5.60\n",
      "130.0637997945  19.9942491067 661323636715553152   5.13\n",
      "130.3072283373  19.9219407004 661401358443742720   5.93\n"
     ]
    }
   ],
   "source": [
    "result = Vizier(column_filters={\"Plx\":\">5\"}).query_region('Messier 44', radius='0d20m0s', catalog='I/337/gaia', )\n",
    "print(result[0]['RA_ICRS', 'DE_ICRS', 'Source', 'Plx'])"
   ]
  },
  {
   "cell_type": "markdown",
   "metadata": {},
   "source": [
    "Send result to VO tools through SAMP"
   ]
  },
  {
   "cell_type": "code",
   "execution_count": null,
   "metadata": {
    "collapsed": true
   },
   "outputs": [],
   "source": []
  },
  {
   "cell_type": "markdown",
   "metadata": {},
   "source": [
    "### Query RRLyrae table and retrieve a light curve"
   ]
  },
  {
   "cell_type": "markdown",
   "metadata": {},
   "source": [
    "Retrieve list of RRLyrae and sort it by period"
   ]
  },
  {
   "cell_type": "code",
   "execution_count": 5,
   "metadata": {
    "collapsed": false
   },
   "outputs": [
    {
     "name": "stderr",
     "output_type": "stream",
     "text": [
      "WARNING: AstropyDeprecationWarning: astropy.utils.compat.odict.OrderedDict is now deprecated - import OrderedDict from the collections module instead [astropy.utils.compat.odict]\n",
      "WARNING:astropy:AstropyDeprecationWarning: astropy.utils.compat.odict.OrderedDict is now deprecated - import OrderedDict from the collections module instead\n",
      "WARNING: AstropyDeprecationWarning: astropy.utils.compat.odict.OrderedDict is now deprecated - import OrderedDict from the collections module instead [astropy.utils.compat.odict]\n",
      "WARNING:astropy:AstropyDeprecationWarning: astropy.utils.compat.odict.OrderedDict is now deprecated - import OrderedDict from the collections module instead\n"
     ]
    },
    {
     "name": "stdout",
     "output_type": "stream",
     "text": [
      "       Source            P1        RA_ICRS        DE_ICRS    \n",
      "                         d           deg            deg      \n",
      "------------------- ----------- -------------- --------------\n",
      "4660711867541110784  0.21271385  84.0752731841 -65.7055413718\n",
      "4660748774181753856  0.22183517  82.6928520423 -65.6441506678\n",
      "5284152449583643648  0.22921618  90.3248461932 -66.8247183205\n",
      "4663058229629271168  0.23316532  73.6300760013 -65.5173344610\n",
      "5283973538437208320  0.23487892  91.7268314090 -66.8423299446\n",
      "4662090178378689408  0.23565586  74.8057550936 -66.8600788745\n",
      "4662010395066656384  0.23665484  77.0341004548 -66.4998070287\n",
      "4663521502000875136  0.23766071  78.9541272098 -65.8416381584\n",
      "4663686256931717376  0.23839866  78.2212926200 -64.6919818517\n",
      "5276543829112460800  0.23944377 127.4767181695 -64.5756518278\n",
      "                ...         ...            ...            ...\n",
      "4675028024310945920  0.81744992  65.5170999930 -65.4086251949\n",
      "4663900764773575680  0.82574879  76.6177392905 -64.8764986300\n",
      "4663498201802520320  0.83220840  78.1237232923 -66.0479176389\n",
      "4661920200755800064  0.83261467  75.9248629073 -66.6736981173\n",
      "4659771819441025408  0.83377605  87.2597355588 -66.3909858124\n",
      "4669806340510840320  0.86631745  60.9074757601 -65.1939895537\n",
      "5283804144909441792  0.88004899  98.7339638672 -65.5468544963\n",
      "4660458537484993920  0.88319490  79.5959922195 -66.5696616837\n",
      "4662753626256671360  0.88504964  68.6887038774 -66.0138459756\n",
      "4674099211863344256  0.89576731  52.7199112308 -62.5219921307\n",
      "Length = 2595 rows\n"
     ]
    },
    {
     "name": "stderr",
     "output_type": "stream",
     "text": [
      "//anaconda/lib/python3.5/site-packages/astropy/table/column.py:1095: MaskedArrayFutureWarning: setting an item on a masked array which has a shared mask will not copy the mask and also change the original mask array in the future.\n",
      "Check the NumPy 1.11 release notes for more information.\n",
      "  ma.MaskedArray.__setitem__(self, index, value)\n"
     ]
    }
   ],
   "source": [
    "rrlyrae = Vizier.get_catalogs(catalog='I/337/rrlyrae')[0]\n",
    "rrlyrae.sort('P1')\n",
    "print(rrlyrae['Source', 'P1', 'RA_ICRS', 'DE_ICRS'])"
   ]
  },
  {
   "cell_type": "markdown",
   "metadata": {},
   "source": [
    "Retrieve light curve points for Source = 4660711867541110784"
   ]
  },
  {
   "cell_type": "code",
   "execution_count": 6,
   "metadata": {
    "collapsed": false
   },
   "outputs": [
    {
     "name": "stderr",
     "output_type": "stream",
     "text": [
      "WARNING: AstropyDeprecationWarning: astropy.utils.compat.odict.OrderedDict is now deprecated - import OrderedDict from the collections module instead [astropy.utils.compat.odict]\n",
      "WARNING:astropy:AstropyDeprecationWarning: astropy.utils.compat.odict.OrderedDict is now deprecated - import OrderedDict from the collections module instead\n",
      "WARNING: AstropyDeprecationWarning: astropy.utils.compat.odict.OrderedDict is now deprecated - import OrderedDict from the collections module instead [astropy.utils.compat.odict]\n",
      "WARNING:astropy:AstropyDeprecationWarning: astropy.utils.compat.odict.OrderedDict is now deprecated - import OrderedDict from the collections module instead\n"
     ]
    },
    {
     "name": "stdout",
     "output_type": "stream",
     "text": [
      "ObsTime        FG      \n",
      "   d          e-/s     \n",
      "------- ---------------\n",
      "1687.99       480.50937\n",
      "1688.24       491.64636\n",
      "1688.49       437.73251\n",
      "1688.74       395.67110\n",
      "1688.99       404.05778\n",
      "1689.24       404.28456\n",
      "1689.49       495.58290\n",
      "1689.74       475.91021\n",
      "1689.99       418.01522\n",
      "1690.24       394.27661\n",
      "    ...             ...\n",
      "1694.42       468.96957\n",
      "1694.49       372.29648\n",
      "1694.67       416.21899\n",
      "1694.99       428.27182\n",
      "1737.04       395.92665\n",
      "1737.11       458.84048\n",
      "1859.97       401.80493\n",
      "1894.44       394.53520\n",
      "1957.23       377.17774\n",
      "1985.22       431.99535\n",
      "Length = 39 rows\n"
     ]
    }
   ],
   "source": [
    "lc_points = Vizier(column_filters={\"Source\":\"4660711867541110784\"}).get_catalogs(catalog='I/337/fov')[0]\n",
    "print(lc_points['ObsTime', 'FG'])"
   ]
  },
  {
   "cell_type": "markdown",
   "metadata": {},
   "source": [
    "Plot the light curve"
   ]
  },
  {
   "cell_type": "code",
   "execution_count": 7,
   "metadata": {
    "collapsed": false
   },
   "outputs": [
    {
     "data": {
      "image/png": "[encoded data removed]",
      "text/plain": [
       "<matplotlib.figure.Figure at 0x10c15fa58>"
      ]
     },
     "metadata": {},
     "output_type": "display_data"
    }
   ],
   "source": [
    "x = lc_points['ObsTime']\n",
    "y = lc_points['FG']\n",
    "y_err = lc_points['e_FG']\n",
    "plt.scatter(x, y, color='r')\n",
    "plt.errorbar(x, y, yerr=y_err, color='r', linestyle='None')\n",
    "plt.grid(True)\n"
   ]
  },
  {
   "cell_type": "markdown",
   "metadata": {},
   "source": [
    "Fold the light curve, folded by the period (P1 = 0.21271385 d)"
   ]
  },
  {
   "cell_type": "code",
   "execution_count": 8,
   "metadata": {
    "collapsed": false
   },
   "outputs": [
    {
     "data": {
      "image/png": "[encoded data removed]",
      "text/plain": [
       "<matplotlib.figure.Figure at 0x10c57bb38>"
      ]
     },
     "metadata": {},
     "output_type": "display_data"
    }
   ],
   "source": [
    "period = 0.21271385\n",
    "#(time+8)%16 - 8\n",
    "x = (lc_points['ObsTime'] % period) / period\n",
    "y = lc_points['FG']\n",
    "y_err = lc_points['e_FG'] \n",
    "plt.scatter(x, y, color='r')\n",
    "plt.errorbar(x, y, yerr=y_err, color='r', linestyle='None')\n",
    "plt.grid(True)\n"
   ]
  },
  {
   "cell_type": "markdown",
   "metadata": {},
   "source": [
    "# Recreate HR diagram from Gaia DR1 paper"
   ]
  },
  {
   "cell_type": "markdown",
   "metadata": {},
   "source": [
    "## Retrieve spectral types from Simbad"
   ]
  },
  {
   "cell_type": "markdown",
   "metadata": {},
   "source": [
    "# Find Gaia and 2MASS couterparts for a list of sources and draw a color-color diagram"
   ]
  },
  {
   "cell_type": "markdown",
   "metadata": {},
   "source": [
    "# Retrieve Gaia sources within HST and SDSS coverage"
   ]
  },
  {
   "cell_type": "markdown",
   "metadata": {},
   "source": [
    "Retrieve SDSS DR9 and HST-R MOCs (coverage)"
   ]
  },
  {
   "cell_type": "code",
   "execution_count": 1,
   "metadata": {
    "collapsed": false
   },
   "outputs": [],
   "source": [
    "from mocpy import MOC\n",
    "moc_sdss = MOC.from_ivorn('ivo://CDS/P/SDSS9/u')\n",
    "moc_hst = MOC.from_ivorn('ivo://CDS/P/HST/R')\n"
   ]
  },
  {
   "cell_type": "markdown",
   "metadata": {},
   "source": [
    "Compute intersection"
   ]
  },
  {
   "cell_type": "code",
   "execution_count": 2,
   "metadata": {
    "collapsed": false
   },
   "outputs": [
    {
     "name": "stdout",
     "output_type": "stream",
     "text": [
      "Common coverage represents 0.00142% of the sky\n"
     ]
    },
    {
     "ename": "RuntimeError",
     "evalue": "Python is not installed as a framework. The Mac OS X backend will not be able to function correctly if Python is not installed as a framework. See the Python documentation for more information on installing Python as a framework on Mac OS X. Please either reinstall Python as a framework, or try one of the other backends. If you are Working with Matplotlib in a virtual enviroment see 'Working with Matplotlib in Virtual environments' in the Matplotlib FAQ",
     "output_type": "error",
     "traceback": [
      "\u001b[0;31m---------------------------------------------------------------------------\u001b[0m",
      "\u001b[0;31mRuntimeError\u001b[0m                              Traceback (most recent call last)",
      "\u001b[0;32m<ipython-input-2-6bfdfa456193>\u001b[0m in \u001b[0;36m<module>\u001b[0;34m()\u001b[0m\n\u001b[1;32m      1\u001b[0m \u001b[0mcommon_coverage\u001b[0m \u001b[0;34m=\u001b[0m \u001b[0mmoc_sdss\u001b[0m\u001b[0;34m.\u001b[0m\u001b[0mintersection\u001b[0m\u001b[0;34m(\u001b[0m\u001b[0mmoc_hst\u001b[0m\u001b[0;34m)\u001b[0m\u001b[0;34m\u001b[0m\u001b[0m\n\u001b[1;32m      2\u001b[0m \u001b[0mprint\u001b[0m\u001b[0;34m(\u001b[0m\u001b[0;34m'Common coverage represents %.5f%% of the sky'\u001b[0m \u001b[0;34m%\u001b[0m \u001b[0;34m(\u001b[0m\u001b[0mcommon_coverage\u001b[0m\u001b[0;34m.\u001b[0m\u001b[0msky_fraction\u001b[0m\u001b[0;34m)\u001b[0m\u001b[0;34m)\u001b[0m\u001b[0;34m\u001b[0m\u001b[0m\n\u001b[0;32m----> 3\u001b[0;31m \u001b[0mcommon_coverage\u001b[0m\u001b[0;34m.\u001b[0m\u001b[0mplot\u001b[0m\u001b[0;34m(\u001b[0m\u001b[0;34m)\u001b[0m\u001b[0;34m\u001b[0m\u001b[0m\n\u001b[0m",
      "\u001b[0;32m//anaconda/lib/python3.5/site-packages/mocpy/moc.py\u001b[0m in \u001b[0;36mplot\u001b[0;34m(self, title, coord)\u001b[0m\n\u001b[1;32m    132\u001b[0m         \u001b[0mcoord\u001b[0m \u001b[0mcan\u001b[0m \u001b[0mbe\u001b[0m \u001b[0;34m'C'\u001b[0m\u001b[0;34m,\u001b[0m \u001b[0;34m'G'\u001b[0m \u001b[0;32mor\u001b[0m \u001b[0;34m'E'\u001b[0m \u001b[0;34m(\u001b[0m\u001b[0mrespectively\u001b[0m \u001b[0mcelestial\u001b[0m\u001b[0;34m,\u001b[0m \u001b[0mgalactic\u001b[0m \u001b[0;32mor\u001b[0m \u001b[0mecliptic\u001b[0m\u001b[0;34m)\u001b[0m\u001b[0;34m\u001b[0m\u001b[0m\n\u001b[1;32m    133\u001b[0m         \"\"\"\n\u001b[0;32m--> 134\u001b[0;31m         \u001b[0;32mfrom\u001b[0m \u001b[0mmatplotlib\u001b[0m \u001b[0;32mimport\u001b[0m \u001b[0mpyplot\u001b[0m \u001b[0;32mas\u001b[0m \u001b[0mplt\u001b[0m\u001b[0;34m\u001b[0m\u001b[0m\n\u001b[0m\u001b[1;32m    135\u001b[0m         \u001b[0;32mimport\u001b[0m \u001b[0mhealpy\u001b[0m \u001b[0;32mas\u001b[0m \u001b[0mhp\u001b[0m\u001b[0;34m\u001b[0m\u001b[0m\n\u001b[1;32m    136\u001b[0m         \u001b[0;31m# degrade to NORDER 8 if norder is greater\u001b[0m\u001b[0;34m\u001b[0m\u001b[0;34m\u001b[0m\u001b[0m\n",
      "\u001b[0;32m//anaconda/lib/python3.5/site-packages/matplotlib/pyplot.py\u001b[0m in \u001b[0;36m<module>\u001b[0;34m()\u001b[0m\n\u001b[1;32m    112\u001b[0m \u001b[0;34m\u001b[0m\u001b[0m\n\u001b[1;32m    113\u001b[0m \u001b[0;32mfrom\u001b[0m \u001b[0mmatplotlib\u001b[0m\u001b[0;34m.\u001b[0m\u001b[0mbackends\u001b[0m \u001b[0;32mimport\u001b[0m \u001b[0mpylab_setup\u001b[0m\u001b[0;34m\u001b[0m\u001b[0m\n\u001b[0;32m--> 114\u001b[0;31m \u001b[0m_backend_mod\u001b[0m\u001b[0;34m,\u001b[0m \u001b[0mnew_figure_manager\u001b[0m\u001b[0;34m,\u001b[0m \u001b[0mdraw_if_interactive\u001b[0m\u001b[0;34m,\u001b[0m \u001b[0m_show\u001b[0m \u001b[0;34m=\u001b[0m \u001b[0mpylab_setup\u001b[0m\u001b[0;34m(\u001b[0m\u001b[0;34m)\u001b[0m\u001b[0;34m\u001b[0m\u001b[0m\n\u001b[0m\u001b[1;32m    115\u001b[0m \u001b[0;34m\u001b[0m\u001b[0m\n\u001b[1;32m    116\u001b[0m \u001b[0m_IP_REGISTERED\u001b[0m \u001b[0;34m=\u001b[0m \u001b[0;32mNone\u001b[0m\u001b[0;34m\u001b[0m\u001b[0m\n",
      "\u001b[0;32m//anaconda/lib/python3.5/site-packages/matplotlib/backends/__init__.py\u001b[0m in \u001b[0;36mpylab_setup\u001b[0;34m()\u001b[0m\n\u001b[1;32m     30\u001b[0m     \u001b[0;31m# imports. 0 means only perform absolute imports.\u001b[0m\u001b[0;34m\u001b[0m\u001b[0;34m\u001b[0m\u001b[0m\n\u001b[1;32m     31\u001b[0m     backend_mod = __import__(backend_name,\n\u001b[0;32m---> 32\u001b[0;31m                              globals(),locals(),[backend_name],0)\n\u001b[0m\u001b[1;32m     33\u001b[0m \u001b[0;34m\u001b[0m\u001b[0m\n\u001b[1;32m     34\u001b[0m     \u001b[0;31m# Things we pull in from all backends\u001b[0m\u001b[0;34m\u001b[0m\u001b[0;34m\u001b[0m\u001b[0m\n",
      "\u001b[0;32m//anaconda/lib/python3.5/site-packages/matplotlib/backends/backend_macosx.py\u001b[0m in \u001b[0;36m<module>\u001b[0;34m()\u001b[0m\n\u001b[1;32m     22\u001b[0m \u001b[0;34m\u001b[0m\u001b[0m\n\u001b[1;32m     23\u001b[0m \u001b[0;32mimport\u001b[0m \u001b[0mmatplotlib\u001b[0m\u001b[0;34m\u001b[0m\u001b[0m\n\u001b[0;32m---> 24\u001b[0;31m \u001b[0;32mfrom\u001b[0m \u001b[0mmatplotlib\u001b[0m\u001b[0;34m.\u001b[0m\u001b[0mbackends\u001b[0m \u001b[0;32mimport\u001b[0m \u001b[0m_macosx\u001b[0m\u001b[0;34m\u001b[0m\u001b[0m\n\u001b[0m\u001b[1;32m     25\u001b[0m \u001b[0;34m\u001b[0m\u001b[0m\n\u001b[1;32m     26\u001b[0m \u001b[0;34m\u001b[0m\u001b[0m\n",
      "\u001b[0;31mRuntimeError\u001b[0m: Python is not installed as a framework. The Mac OS X backend will not be able to function correctly if Python is not installed as a framework. See the Python documentation for more information on installing Python as a framework on Mac OS X. Please either reinstall Python as a framework, or try one of the other backends. If you are Working with Matplotlib in a virtual enviroment see 'Working with Matplotlib in Virtual environments' in the Matplotlib FAQ"
     ]
    }
   ],
   "source": [
    "common_coverage = moc_sdss.intersection(moc_hst)\n",
    "print('Common coverage represents %.5f%% of the sky' % (common_coverage.sky_fraction))\n",
    "common_coverage.plot()"
   ]
  },
  {
   "cell_type": "markdown",
   "metadata": {},
   "source": [
    "# Query SIMBAD to retrieve stars member of a cluster and cross-match with TGAS"
   ]
  },
  {
   "cell_type": "raw",
   "metadata": {},
   "source": []
  },
  {
   "cell_type": "raw",
   "metadata": {},
   "source": [
    "Using astroquery, we will retrieve SIMBAD stars members of a cluster and having a parallax measurement greater than 1 mas and an error smaller than 1/5th of the parallax value"
   ]
  },
  {
   "cell_type": "code",
   "execution_count": 10,
   "metadata": {
    "collapsed": false
   },
   "outputs": [
    {
     "name": "stdout",
     "output_type": "stream",
     "text": [
      "        ra                 dec         ...     plx_value       plx_err  \n",
      "       deg                 deg         ...        mas            mas    \n",
      "------------------ ------------------- ... ------------------ ----------\n",
      "161.56899012567726   -64.5145598145577 ... 6.8499999999999996 0.20999999\n",
      " 48.34947130671857  48.176952442309371 ... 8.5800000000000001       0.37\n",
      " 54.77802151852503  24.702873017617172 ... 8.3200000000000003 0.79000002\n",
      "184.81643444292581  25.060243297651738 ... 6.4199999999999999 0.66000003\n",
      "75.203695332014647  4.7331138426158796 ... 18.379999999999999  1.9400001\n",
      "122.95071415191404 -12.678799803611035 ... 5.4800000000000004       1.02\n",
      "52.777374097403595  50.481493286870879 ... 7.5800000000000001 0.55000001\n",
      "128.83102340404923  19.590065306504904 ... 4.9299999999999997 0.55000001\n",
      "141.84548228553999 -36.880150079571493 ... 8.2799999999999994 0.73000002\n",
      " 188.8286403392454  36.338270781398741 ... 9.3300000000000001 0.93000001\n",
      "               ...                 ... ...                ...        ...\n",
      "56.197494121107724 -71.703478734107406 ... 9.1300000000000008 0.56999999\n",
      "128.79217841185607 -54.206188431387794 ... 4.1200000000000001 0.33000001\n",
      "129.59964017006868 -53.721777193711247 ... 7.0599999999999996 0.43000001\n",
      "138.59472358043055 -65.053948093652892 ... 6.3099999999999996       0.41\n",
      "265.36513432472361  -53.80298816604045 ...              15.59       1.79\n",
      "305.67183091100219  -78.96091174141533 ... 9.2300000000000004 0.36000001\n",
      "306.70067777432962 -78.194736900703418 ... 6.7800000000000002 0.76999998\n",
      "307.50825968817594 -78.906364714305454 ...              11.74 0.60000002\n",
      "63.606877838721537  14.625034704847046 ... 21.620000000000001        1.1\n",
      "188.11431864818221    28.0846215372977 ... 20.870000000000001       1.16\n",
      "Length = 498 rows\n"
     ]
    }
   ],
   "source": [
    "stars_in_cluster = query_TAP('http://simbad.u-strasbg.fr/simbad/sim-tap', \n",
    "                             \"\"\"SELECT  ra, dec, pmra, pmdec, plx_value, plx_err FROM basic\n",
    "                                WHERE otype_txt = '*iC'\n",
    "                                and plx_value>1 and plx_value/plx_err > 5\"\"\")\n",
    "print(stars_in_cluster)"
   ]
  },
  {
   "cell_type": "markdown",
   "metadata": {},
   "source": [
    "We now query the xmatch service to find counterparts in TGAS (max search radius: 1 arcsec)"
   ]
  },
  {
   "cell_type": "code",
   "execution_count": 11,
   "metadata": {
    "collapsed": false
   },
   "outputs": [
    {
     "ename": "TypeError",
     "evalue": "query() got an unexpected keyword argument 'cache'",
     "output_type": "error",
     "traceback": [
      "\u001b[0;31m---------------------------------------------------------------------------\u001b[0m",
      "\u001b[0;31mTypeError\u001b[0m                                 Traceback (most recent call last)",
      "\u001b[0;32m<ipython-input-11-ecfc12d0c1fa>\u001b[0m in \u001b[0;36m<module>\u001b[0;34m()\u001b[0m\n\u001b[1;32m      3\u001b[0m                              \u001b[0mmax_distance\u001b[0m \u001b[0;34m=\u001b[0m \u001b[0;36m1\u001b[0m \u001b[0;34m*\u001b[0m \u001b[0mu\u001b[0m\u001b[0;34m.\u001b[0m\u001b[0marcsec\u001b[0m\u001b[0;34m,\u001b[0m\u001b[0;34m\u001b[0m\u001b[0m\n\u001b[1;32m      4\u001b[0m                              \u001b[0mcolRA1\u001b[0m \u001b[0;34m=\u001b[0m \u001b[0;34m'ra'\u001b[0m\u001b[0;34m,\u001b[0m\u001b[0;34m\u001b[0m\u001b[0m\n\u001b[0;32m----> 5\u001b[0;31m                              colDec1= 'dec', cache=False)\n\u001b[0m\u001b[1;32m      6\u001b[0m \u001b[0;34m\u001b[0m\u001b[0m\n\u001b[1;32m      7\u001b[0m \u001b[0mprint\u001b[0m\u001b[0;34m(\u001b[0m\u001b[0mxmatch_result\u001b[0m\u001b[0;34m[\u001b[0m\u001b[0;34m'ra'\u001b[0m\u001b[0;34m,\u001b[0m \u001b[0;34m'dec'\u001b[0m\u001b[0;34m,\u001b[0m \u001b[0;34m'plx_value'\u001b[0m\u001b[0;34m,\u001b[0m \u001b[0;34m'Plx'\u001b[0m\u001b[0;34m,\u001b[0m \u001b[0;34m'plx_err'\u001b[0m\u001b[0;34m,\u001b[0m \u001b[0;34m'e_Plx'\u001b[0m\u001b[0;34m]\u001b[0m\u001b[0;34m)\u001b[0m\u001b[0;34m\u001b[0m\u001b[0m\n",
      "\u001b[0;31mTypeError\u001b[0m: query() got an unexpected keyword argument 'cache'"
     ]
    }
   ],
   "source": [
    "xmatch_result = XMatch.query(cat1 = stars_in_cluster,\n",
    "                             cat2 = 'vizier:I/337/tgasptyc',\n",
    "                             max_distance = 1 * u.arcsec,                             \n",
    "                             colRA1 = 'ra',\n",
    "                             colDec1= 'dec', cache=False)\n",
    "\n",
    "print(xmatch_result['ra', 'dec', 'plx_value', 'Plx', 'plx_err', 'e_Plx'])\n"
   ]
  },
  {
   "cell_type": "code",
   "execution_count": null,
   "metadata": {
    "collapsed": false
   },
   "outputs": [],
   "source": [
    "histvals, binvals, patches = plt.hist(xmatch_result['Plx'], bins=100, facecolor='g', alpha=0.75)\n",
    "\n",
    "plt.xlabel('Plx')\n",
    "plt.ylabel('count')\n",
    "plt.title('Gaia parallax distribution for cluster members')\n",
    "plt.grid(True)"
   ]
  },
  {
   "cell_type": "code",
   "execution_count": null,
   "metadata": {
    "collapsed": false
   },
   "outputs": [],
   "source": [
    "histvals, binvals, patches = plt.hist(100 * abs(xmatch_result['Plx'] - xmatch_result['plx_value']) / xmatch_result['Plx'], bins=100, facecolor='g', alpha=0.75)\n",
    "\n",
    "plt.xlabel('Percentage')\n",
    "plt.ylabel('count')\n",
    "plt.title('Relative difference between parallax in Simbad and parallax measures by Gaia')\n",
    "plt.grid(True)"
   ]
  },
  {
   "cell_type": "code",
   "execution_count": null,
   "metadata": {
    "collapsed": false
   },
   "outputs": [],
   "source": [
    "plot_scatter_density(xmatch_result['ra'] - xmatch_result['_RAJ2000'],\n",
    "                     xmatch_result['dec']  - xmatch_result['_DEJ2000'],\n",
    "                     r'$\\Delta$RA', r'$\\Delta$dec', 'Position differences between Simbad and Gaia', xlim=[-5e-5, 5e-5], ylim=[-5e-5, 5e-5],\n",
    "                     cmap='viridis', invert_yaxis = False, s=6, grid=True)\n",
    "\n"
   ]
  }
 ],
 "metadata": {
  "anaconda-cloud": {},
  "kernelspec": {
   "display_name": "Python 3",
   "language": "python",
   "name": "python3"
  },
  "language_info": {
   "codemirror_mode": {
    "name": "ipython",
    "version": 3
   },
   "file_extension": ".py",
   "mimetype": "text/x-python",
   "name": "python",
   "nbconvert_exporter": "python",
   "pygments_lexer": "ipython3",
   "version": "3.5.2"
  }
 },
 "nbformat": 4,
 "nbformat_minor": 0
}
