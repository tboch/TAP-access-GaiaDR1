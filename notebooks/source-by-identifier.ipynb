{
 "metadata": {
  "name": ""
 },
 "nbformat": 3,
 "nbformat_minor": 0,
 "worksheets": [
  {
   "cells": [
    {
     "cell_type": "markdown",
     "metadata": {},
     "source": [
      "# Retrieve basic parameters for a given Gaia source identifier"
     ]
    },
    {
     "cell_type": "code",
     "collapsed": false,
     "input": [
      "def query_TAP(tap_endpoint, adql_query, table_to_upload=None):\n",
      "    \"\"\"\n",
      "    Query a TAP service (designated by its tap_endpoint)\n",
      "    with a given ADQL query\n",
      "    \n",
      "    Query is performed synchronously\n",
      "    \n",
      "    Return an AstroPy Table object\n",
      "    \"\"\"\n",
      "    import requests\n",
      "    from astropy.table import Table\n",
      "    from astropy.io.votable import parse_single_table\n",
      "    import os\n",
      "    import tempfile\n",
      "    import warnings\n",
      "    warnings.simplefilter(\"ignore\")\n",
      "    \n",
      "    r = requests.post(tap_endpoint + '/sync', data={'query': adql_query, 'request': 'doQuery', 'lang': 'adql', 'format': 'votable', 'phase': 'run'})\n",
      "    \n",
      "    tmp_vot = tempfile.NamedTemporaryFile(delete = False)\n",
      "    with open(tmp_vot.name, 'w') as h:\n",
      "        for line in r.iter_lines():\n",
      "            if line:\n",
      "                h.write(line.decode(r.encoding)+'\\n')\n",
      "\n",
      "    table = parse_single_table(tmp_vot.name).to_table()\n",
      "\n",
      "    # finally delete temp files\n",
      "    os.unlink(tmp_vot.name)\n",
      "\n",
      "    return table\n"
     ],
     "language": "python",
     "metadata": {},
     "outputs": [],
     "prompt_number": 12
    },
    {
     "cell_type": "code",
     "collapsed": false,
     "input": [
      "source_id = 16527034310784\n",
      "endpoint = 'http://tapvizier.u-strasbg.fr/TAPVizieR/tap'\n",
      "adql = \"\"\"SELECT ra, dec, pmra, pmdec, parallax, phot_g_mean_mag\n",
      "          FROM \\\"I/337/gaia\\\"\n",
      "          WHERE source_id = %d\n",
      "       \"\"\" % (source_id)\n",
      "\n",
      "result = query_TAP(endpoint, adql)\n",
      "print(result)"
     ],
     "language": "python",
     "metadata": {},
     "outputs": [
      {
       "output_type": "stream",
       "stream": "stdout",
       "text": [
        "    ra [1]      dec [1]    pmRA [1] pmdec [1] parallax [1] phot_g_mean_mag [1]\n",
        "     deg          deg      mas / yr  mas / yr     mas              mag        \n",
        "------------- ------------ -------- --------- ------------ -------------------\n",
        "45.1413781152 0.3596182173  -52.849   -72.711         8.66               9.972\n"
       ]
      }
     ],
     "prompt_number": 18
    }
   ],
   "metadata": {}
  }
 ]
}